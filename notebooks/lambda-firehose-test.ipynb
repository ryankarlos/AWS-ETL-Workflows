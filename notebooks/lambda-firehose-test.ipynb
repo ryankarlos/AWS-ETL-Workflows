{
 "cells": [
  {
   "cell_type": "code",
   "execution_count": 111,
   "id": "993693a5",
   "metadata": {},
   "outputs": [
    {
     "data": {
      "text/plain": [
       "{'records': [{'data': 'eyJjcmVhdGVkX2F0IjogIkZyaSBBcHIgMjIgMDA6NDg6MjQgKzAwMDAgMjAyMiIsICJoYW5kbGUiOiAiS1RheWl0aSIsICJ0ZXh0IjogIkhleSBUaGVyZSEgSGVyZSdzIGEgTmV3IFBvc3QgT246IFRoZSBUaHVuZGVyJ3MgT2tsYWhvbWEgU3Bpcml0IHwgIGh0dHBzOi8vdC5jby8wTEtiQ0VGMGVPLi4uLkNoZWNrIGl0IG91dC4gaHR0cHM6Ly90LmNvL1VGekhPVE40OXMgICNOQkEgI05ITCAgI05GTCBodHRwczovL3QuY28vZUJZUEdva1YySyIsICJmYXZvdXJpdGVfY291bnQiOiAwLCAicmV0d2VldF9jb3VudCI6IDAsICJyZXR3ZWV0ZWQiOiBmYWxzZSwgImZvbGxvd2Vyc19jb3VudCI6IDIsICJmcmllbmRzX2NvdW50IjogMjgsICJsb2NhdGlvbiI6IG51bGwsICJsYW5nIjogbnVsbH0=',\n",
       "   'recordId': 1},\n",
       "  {'data': 'eyJjcmVhdGVkX2F0IjogIkZyaSBBcHIgMjIgMDA6NDk6MjkgKzAwMDAgMjAyMiIsICJoYW5kbGUiOiAiTWljaGFlbEJpcm1pbjE3IiwgInRleHQiOiAiQ1JFRU1PUy4gWSBlc3RlIGVxdWlwbyBlcyBtdXkgYnVlbm8gY3VhbmRvIGhhY2UgZXNvLlxuI0dyaW5kQ2l0eSAjTkJBIiwgImZhdm91cml0ZV9jb3VudCI6IDE1NTYsICJyZXR3ZWV0X2NvdW50IjogMCwgInJldHdlZXRlZCI6IGZhbHNlLCAiZm9sbG93ZXJzX2NvdW50IjogMTE4LCAiZnJpZW5kc19jb3VudCI6IDIyNCwgImxvY2F0aW9uIjogIkJ1ZGFwZXN0IChIdW5nclx1MDBlZGEpIiwgImxhbmciOiBudWxsfQ==',\n",
       "   'recordId': 2},\n",
       "  {'data': 'eyJjcmVhdGVkX2F0IjogIkZyaSBBcHIgMjIgMDA6NDg6MzMgKzAwMDAgMjAyMiIsICJoYW5kbGUiOiAiczEzODNqYXZhZCIsICJ0ZXh0IjogIkNoZWNrIG91dCB0aGlzIGl0ZW0gb24gT3BlblNlYSBodHRwczovL3QuY28vczZrTjRnM0laRSB2aWEgQG9wZW5zZWEgXG4jb3BlbnNlYSAjT3BlblNlYU5GVCAjbmZ0ICNldGggI25iYSAjd2ViMyAjIiwgImZhdm91cml0ZV9jb3VudCI6IDE0NjksICJyZXR3ZWV0X2NvdW50IjogMCwgInJldHdlZXRlZCI6IGZhbHNlLCAiZm9sbG93ZXJzX2NvdW50IjogMjA3LCAiZnJpZW5kc19jb3VudCI6IDY2OCwgImxvY2F0aW9uIjogImlyYW4tdGVocmFuIiwgImxhbmciOiBudWxsfQ==',\n",
       "   'recordId': 3},\n",
       "  {'data': 'eyJjcmVhdGVkX2F0IjogIkZyaSBBcHIgMjIgMDA6NDg6MzEgKzAwMDAgMjAyMiIsICJoYW5kbGUiOiAiVGluYUxhcmEyOSIsICJ0ZXh0IjogIkJhcmtsZXkgc2FpZCBkdW1iZXIgdGhlbiByb2Nrcy4jTkJBIFx1ZDgzZFx1ZGUwMiIsICJmYXZvdXJpdGVfY291bnQiOiA5MDI4NiwgInJldHdlZXRfY291bnQiOiAwLCAicmV0d2VldGVkIjogZmFsc2UsICJmb2xsb3dlcnNfY291bnQiOiAyNzIwLCAiZnJpZW5kc19jb3VudCI6IDI3NzMsICJsb2NhdGlvbiI6ICJIb3VzdG9uLCBUWCIsICJsYW5nIjogbnVsbH0=',\n",
       "   'recordId': 4},\n",
       "  {'data': 'eyJjcmVhdGVkX2F0IjogIkZyaSBBcHIgMjIgMDA6NDg6MjggKzAwMDAgMjAyMiIsICJoYW5kbGUiOiAiRWxKb3JnaXRvUGlja3MiLCAidGV4dCI6ICJHcnVwbyBkZSAjTUxCIHkgI05CQSBob3kuIENvbWVuemFuZG8gY29uIHRvZG8gXHVkODNkXHVkY2FhIGh0dHBzOi8vdC5jby9yeFZMc282SkI2IiwgImZhdm91cml0ZV9jb3VudCI6IDI5ODIsICJyZXR3ZWV0X2NvdW50IjogMCwgInJldHdlZXRlZCI6IGZhbHNlLCAiZm9sbG93ZXJzX2NvdW50IjogMTI0NiwgImZyaWVuZHNfY291bnQiOiA1NiwgImxvY2F0aW9uIjogIlx1ZDgzY1x1ZGY0NUNMTiB8IENETVhcdWQ4M2NcdWRkZjJcdWQ4M2NcdWRkZmQiLCAibGFuZyI6IG51bGx9',\n",
       "   'recordId': 5}]}"
      ]
     },
     "execution_count": 111,
     "metadata": {},
     "output_type": "execute_result"
    }
   ],
   "source": [
    "import boto3\n",
    "import json\n",
    "import itertools\n",
    "import base64\n",
    "import itertools \n",
    "comprehend = boto3.client(service_name='comprehend', region_name='us-east-1')\n",
    "translate = boto3.client(service_name='translate')\n",
    "\n",
    "\n",
    "event = {}\n",
    "event = {'records':[\n",
    "            {'data':\"eyJjcmVhdGVkX2F0IjogIkZyaSBBcHIgMjIgMDA6NDg6MjQgKzAwMDAgMjAyMiIsICJoYW5kbGUiOiAiS1RheWl0aSIsICJ0ZXh0IjogIkhleSBUaGVyZSEgSGVyZSdzIGEgTmV3IFBvc3QgT246IFRoZSBUaHVuZGVyJ3MgT2tsYWhvbWEgU3Bpcml0IHwgIGh0dHBzOi8vdC5jby8wTEtiQ0VGMGVPLi4uLkNoZWNrIGl0IG91dC4gaHR0cHM6Ly90LmNvL1VGekhPVE40OXMgICNOQkEgI05ITCAgI05GTCBodHRwczovL3QuY28vZUJZUEdva1YySyIsICJmYXZvdXJpdGVfY291bnQiOiAwLCAicmV0d2VldF9jb3VudCI6IDAsICJyZXR3ZWV0ZWQiOiBmYWxzZSwgImZvbGxvd2Vyc19jb3VudCI6IDIsICJmcmllbmRzX2NvdW50IjogMjgsICJsb2NhdGlvbiI6IG51bGwsICJsYW5nIjogbnVsbH0=\",\n",
    "                    'recordId':1},\n",
    "           {'data':\"eyJjcmVhdGVkX2F0IjogIkZyaSBBcHIgMjIgMDA6NDk6MjkgKzAwMDAgMjAyMiIsICJoYW5kbGUiOiAiTWljaGFlbEJpcm1pbjE3IiwgInRleHQiOiAiQ1JFRU1PUy4gWSBlc3RlIGVxdWlwbyBlcyBtdXkgYnVlbm8gY3VhbmRvIGhhY2UgZXNvLlxuI0dyaW5kQ2l0eSAjTkJBIiwgImZhdm91cml0ZV9jb3VudCI6IDE1NTYsICJyZXR3ZWV0X2NvdW50IjogMCwgInJldHdlZXRlZCI6IGZhbHNlLCAiZm9sbG93ZXJzX2NvdW50IjogMTE4LCAiZnJpZW5kc19jb3VudCI6IDIyNCwgImxvY2F0aW9uIjogIkJ1ZGFwZXN0IChIdW5nclx1MDBlZGEpIiwgImxhbmciOiBudWxsfQ==\",\n",
    "           'recordId':2},\n",
    "            {'data':\"eyJjcmVhdGVkX2F0IjogIkZyaSBBcHIgMjIgMDA6NDg6MzMgKzAwMDAgMjAyMiIsICJoYW5kbGUiOiAiczEzODNqYXZhZCIsICJ0ZXh0IjogIkNoZWNrIG91dCB0aGlzIGl0ZW0gb24gT3BlblNlYSBodHRwczovL3QuY28vczZrTjRnM0laRSB2aWEgQG9wZW5zZWEgXG4jb3BlbnNlYSAjT3BlblNlYU5GVCAjbmZ0ICNldGggI25iYSAjd2ViMyAjIiwgImZhdm91cml0ZV9jb3VudCI6IDE0NjksICJyZXR3ZWV0X2NvdW50IjogMCwgInJldHdlZXRlZCI6IGZhbHNlLCAiZm9sbG93ZXJzX2NvdW50IjogMjA3LCAiZnJpZW5kc19jb3VudCI6IDY2OCwgImxvY2F0aW9uIjogImlyYW4tdGVocmFuIiwgImxhbmciOiBudWxsfQ==\",\n",
    "            'recordId':3},\n",
    "            {'data':\"eyJjcmVhdGVkX2F0IjogIkZyaSBBcHIgMjIgMDA6NDg6MzEgKzAwMDAgMjAyMiIsICJoYW5kbGUiOiAiVGluYUxhcmEyOSIsICJ0ZXh0IjogIkJhcmtsZXkgc2FpZCBkdW1iZXIgdGhlbiByb2Nrcy4jTkJBIFx1ZDgzZFx1ZGUwMiIsICJmYXZvdXJpdGVfY291bnQiOiA5MDI4NiwgInJldHdlZXRfY291bnQiOiAwLCAicmV0d2VldGVkIjogZmFsc2UsICJmb2xsb3dlcnNfY291bnQiOiAyNzIwLCAiZnJpZW5kc19jb3VudCI6IDI3NzMsICJsb2NhdGlvbiI6ICJIb3VzdG9uLCBUWCIsICJsYW5nIjogbnVsbH0=\",\n",
    "            'recordId':4},\n",
    "            {'data':\"eyJjcmVhdGVkX2F0IjogIkZyaSBBcHIgMjIgMDA6NDg6MjggKzAwMDAgMjAyMiIsICJoYW5kbGUiOiAiRWxKb3JnaXRvUGlja3MiLCAidGV4dCI6ICJHcnVwbyBkZSAjTUxCIHkgI05CQSBob3kuIENvbWVuemFuZG8gY29uIHRvZG8gXHVkODNkXHVkY2FhIGh0dHBzOi8vdC5jby9yeFZMc282SkI2IiwgImZhdm91cml0ZV9jb3VudCI6IDI5ODIsICJyZXR3ZWV0X2NvdW50IjogMCwgInJldHdlZXRlZCI6IGZhbHNlLCAiZm9sbG93ZXJzX2NvdW50IjogMTI0NiwgImZyaWVuZHNfY291bnQiOiA1NiwgImxvY2F0aW9uIjogIlx1ZDgzY1x1ZGY0NUNMTiB8IENETVhcdWQ4M2NcdWRkZjJcdWQ4M2NcdWRkZmQiLCAibGFuZyI6IG51bGx9\",\n",
    "            'recordId':5}\n",
    "            ]}\n",
    "\n",
    "event"
   ]
  },
  {
   "cell_type": "markdown",
   "id": "6bced30f",
   "metadata": {},
   "source": [
    "#### Defining the functions for calling AWS Translate and Comprehend API\n",
    "\n",
    "We first want to performa data translation for tweet -> let AWS Translate autoamtically detect source tweet language and convert to English. Then pass the translated text to Comnprehend to do sentiment analysis and entity detection."
   ]
  },
  {
   "cell_type": "code",
   "execution_count": 112,
   "id": "b4692bef",
   "metadata": {},
   "outputs": [],
   "source": [
    "\n",
    "def aws_translate(data, source_lang='auto', target_lang='en'):\n",
    "    response = translate.translate_text(Text=data,  SourceLanguageCode=source_lang,TargetLanguageCode=target_lang)\n",
    "    response.pop('ResponseMetadata')\n",
    "    return response\n",
    "\n",
    "          \n",
    "def sentiment_analysis(data):\n",
    "    sentiment = comprehend.detect_sentiment(Text=data, LanguageCode='en')\n",
    "    sentiment.pop('ResponseMetadata')\n",
    "    sentiment[\"SentimentScore\"] = sentiment.get(\"SentimentScore\")\n",
    "    return sentiment\n",
    "\n",
    "\n",
    "def entity_detection(data):\n",
    "    entities = comprehend.detect_entities(Text=data, LanguageCode='en')\n",
    "    entity_dict = {'Entities': [{item['Text']: item['Type']} for item in entities['Entities']]}\n",
    "    return entity_dict"
   ]
  },
  {
   "cell_type": "markdown",
   "id": "4c65af5e",
   "metadata": {},
   "source": [
    "#### Defining the lambda handler\n",
    "\n",
    "Data in Firehose is base64encoded coming in from kinesis data streams. This needs to be decoded first in lambda function before doing any transformations. As per https://docs.aws.amazon.com/firehose/latest/dev/data-transformation.html, the data transformation logic in the lambda transform in firehose needs to do the following: \n",
    "\n",
    "Input Records → base64 decoded → add transformation logic here  →  base64 encoded and follow the output format( dict with keys \"recordId:, \"result\" and 'data')→ Return the Data.\n",
    "\n",
    "If the destination from firehose is S3 bucket, the data will be automatically decoded and ingested into S3 bucket."
   ]
  },
  {
   "cell_type": "code",
   "execution_count": 113,
   "id": "2092a97d",
   "metadata": {},
   "outputs": [
    {
     "name": "stdout",
     "output_type": "stream",
     "text": [
      "Processed 5 records.\n",
      "[{'recordId': 1, 'result': 'Ok', 'data': b'eyJjcmVhdGVkX2F0IjogIkZyaSBBcHIgMjIgMDA6NDg6MjQgKzAwMDAgMjAyMiIsICJoYW5kbGUiOiAiS1RheWl0aSIsICJ0ZXh0IjogIkhleSBUaGVyZSEgSGVyZSdzIGEgTmV3IFBvc3QgT246IFRoZSBUaHVuZGVyJ3MgT2tsYWhvbWEgU3Bpcml0IHwgIGh0dHBzOi8vdC5jby8wTEtiQ0VGMGVPLi4uLkNoZWNrIGl0IG91dC4gaHR0cHM6Ly90LmNvL1VGekhPVE40OXMgICNOQkEgI05ITCAgI05GTCBodHRwczovL3QuY28vZUJZUEdva1YySyIsICJmYXZvdXJpdGVfY291bnQiOiAwLCAicmV0d2VldF9jb3VudCI6IDAsICJyZXR3ZWV0ZWQiOiBmYWxzZSwgImZvbGxvd2Vyc19jb3VudCI6IDIsICJmcmllbmRzX2NvdW50IjogMjgsICJsb2NhdGlvbiI6IG51bGwsICJsYW5nIjogbnVsbCwgIlRyYW5zbGF0ZWRUZXh0IjogIkhleSBUaGVyZSEgSGVyZSdzIGEgTmV3IFBvc3QgT246IFRoZSBUaHVuZGVyJ3MgT2tsYWhvbWEgU3Bpcml0IHwgaHR0cHM6Ly90LmNvLzBMS2JDRUYwZU8uLi4uQ2hlY2sgaXQgb3V0LiBodHRwczovL3QuY28vVUZ6SE9UTjQ5cyAjTkJBICNOSEwgI05GTCBodHRwczovL3QuY28vZUJZUEdva1YySyIsICJTb3VyY2VMYW5ndWFnZUNvZGUiOiAiZW4iLCAiVGFyZ2V0TGFuZ3VhZ2VDb2RlIjogImVuIiwgIlNlbnRpbWVudCI6ICJORVVUUkFMIiwgIlNlbnRpbWVudFNjb3JlIjogeyJQb3NpdGl2ZSI6IDAuMDY1NDIyODAzMTYzNTI4NDQsICJOZWdhdGl2ZSI6IDAuMDAwNTc4NjMzNjg0MTk5MzAzNCwgIk5ldXRyYWwiOiAwLjkzMzk4NzczNjcwMTk2NTMsICJNaXhlZCI6IDEuMDgxMTg5NzQ4MjE5OTEyOWUtMDV9LCAiRW50aXRpZXMiOiBbeyJUaHVuZGVyIjogIk9SR0FOSVpBVElPTiJ9LCB7Imh0dHBzOi8vdC5jby8wTEtiQ0VGMGVPLi4uLkNoZWNrIjogIk9USEVSIn0sIHsiaHR0cHM6Ly90LmNvL1VGekhPVE40OXMiOiAiT1RIRVIifSwgeyIjTkJBIjogIkVWRU5UIn0sIHsiI05ITCI6ICJFVkVOVCJ9LCB7IiNORkwiOiAiRVZFTlQifSwgeyJodHRwczovL3QuY28vZUJZUEdva1YySyI6ICJPVEhFUiJ9XX0K'}, {'recordId': 2, 'result': 'Ok', 'data': b'eyJjcmVhdGVkX2F0IjogIkZyaSBBcHIgMjIgMDA6NDk6MjkgKzAwMDAgMjAyMiIsICJoYW5kbGUiOiAiTWljaGFlbEJpcm1pbjE3IiwgInRleHQiOiAiQ1JFRU1PUy4gWSBlc3RlIGVxdWlwbyBlcyBtdXkgYnVlbm8gY3VhbmRvIGhhY2UgZXNvLlxuI0dyaW5kQ2l0eSAjTkJBIiwgImZhdm91cml0ZV9jb3VudCI6IDE1NTYsICJyZXR3ZWV0X2NvdW50IjogMCwgInJldHdlZXRlZCI6IGZhbHNlLCAiZm9sbG93ZXJzX2NvdW50IjogMTE4LCAiZnJpZW5kc19jb3VudCI6IDIyNCwgImxvY2F0aW9uIjogIkJ1ZGFwZXN0IChIdW5nclx1MDBlZGEpIiwgImxhbmciOiBudWxsLCAiVHJhbnNsYXRlZFRleHQiOiAiV0UgQkVMSUVWRS4gQW5kIHRoaXMgdGVhbSBpcyB2ZXJ5IGdvb2Qgd2hlbiBpdCBkb2VzIHRoYXQuXG4jR3JpbmRDaXR5ICNOQkEiLCAiU291cmNlTGFuZ3VhZ2VDb2RlIjogImVzIiwgIlRhcmdldExhbmd1YWdlQ29kZSI6ICJlbiIsICJTZW50aW1lbnQiOiAiUE9TSVRJVkUiLCAiU2VudGltZW50U2NvcmUiOiB7IlBvc2l0aXZlIjogMC45OTQxOTI3NzkwNjQxNzg1LCAiTmVnYXRpdmUiOiAwLjAwMDE0NjM3NjQ3ODM2OTM0Nzc1LCAiTmV1dHJhbCI6IDAuMDA1NjI1NDYzNTU2NDk4Mjg5LCAiTWl4ZWQiOiAzLjU0MTE0NTYzMzc4OTcxMWUtMDV9LCAiRW50aXRpZXMiOiBbeyIjR3JpbmRDaXR5IjogIk9SR0FOSVpBVElPTiJ9LCB7IiNOQkEiOiAiRVZFTlQifV19Cg=='}, {'recordId': 3, 'result': 'Ok', 'data': b'eyJjcmVhdGVkX2F0IjogIkZyaSBBcHIgMjIgMDA6NDg6MzMgKzAwMDAgMjAyMiIsICJoYW5kbGUiOiAiczEzODNqYXZhZCIsICJ0ZXh0IjogIkNoZWNrIG91dCB0aGlzIGl0ZW0gb24gT3BlblNlYSBodHRwczovL3QuY28vczZrTjRnM0laRSB2aWEgQG9wZW5zZWEgXG4jb3BlbnNlYSAjT3BlblNlYU5GVCAjbmZ0ICNldGggI25iYSAjd2ViMyAjIiwgImZhdm91cml0ZV9jb3VudCI6IDE0NjksICJyZXR3ZWV0X2NvdW50IjogMCwgInJldHdlZXRlZCI6IGZhbHNlLCAiZm9sbG93ZXJzX2NvdW50IjogMjA3LCAiZnJpZW5kc19jb3VudCI6IDY2OCwgImxvY2F0aW9uIjogImlyYW4tdGVocmFuIiwgImxhbmciOiBudWxsLCAiVHJhbnNsYXRlZFRleHQiOiAiQ2hlY2sgb3V0IHRoaXMgaXRlbSBvbiBPcGVuU2VhIGh0dHBzOi8vdC5jby9zNmtONGczSVpFIHZpYSBAb3BlbnNlYSBcbiNvcGVuc2VhICNPcGVuU2VhTkZUICNuZnQgI2V0aCAjbmJhICN3ZWIzICMiLCAiU291cmNlTGFuZ3VhZ2VDb2RlIjogImVuIiwgIlRhcmdldExhbmd1YWdlQ29kZSI6ICJlbiIsICJTZW50aW1lbnQiOiAiTkVVVFJBTCIsICJTZW50aW1lbnRTY29yZSI6IHsiUG9zaXRpdmUiOiAwLjAwMTk2MDU5NjUzNTM1NDg1MjcsICJOZWdhdGl2ZSI6IDAuMDAwMTM1MTYwNjMzMzYyODI5NjksICJOZXV0cmFsIjogMC45OTc2NTA1NjM3MTY4ODg0LCAiTWl4ZWQiOiAwLjAwMDI1MzY1NDkyOTExMDc4MDM2fSwgIkVudGl0aWVzIjogW3siT3BlblNlYSI6ICJUSVRMRSJ9LCB7Imh0dHBzOi8vdC5jby9zNmtONGczSVpFIjogIk9USEVSIn0sIHsiQG9wZW5zZWEiOiAiT1JHQU5JWkFUSU9OIn0sIHsiI29wZW5zZWEiOiAiT1JHQU5JWkFUSU9OIn0sIHsiI09wZW5TZWFORlQiOiAiT1JHQU5JWkFUSU9OIn0sIHsiI25iYSI6ICJPUkdBTklaQVRJT04ifV19Cg=='}, {'recordId': 4, 'result': 'Ok', 'data': b'eyJjcmVhdGVkX2F0IjogIkZyaSBBcHIgMjIgMDA6NDg6MzEgKzAwMDAgMjAyMiIsICJoYW5kbGUiOiAiVGluYUxhcmEyOSIsICJ0ZXh0IjogIkJhcmtsZXkgc2FpZCBkdW1iZXIgdGhlbiByb2Nrcy4jTkJBIFx1ZDgzZFx1ZGUwMiIsICJmYXZvdXJpdGVfY291bnQiOiA5MDI4NiwgInJldHdlZXRfY291bnQiOiAwLCAicmV0d2VldGVkIjogZmFsc2UsICJmb2xsb3dlcnNfY291bnQiOiAyNzIwLCAiZnJpZW5kc19jb3VudCI6IDI3NzMsICJsb2NhdGlvbiI6ICJIb3VzdG9uLCBUWCIsICJsYW5nIjogbnVsbCwgIlRyYW5zbGF0ZWRUZXh0IjogIkJhcmtsZXkgc2FpZCBkdW1iZXIgdGhlbiByb2Nrcy4jTkJBIFx1ZDgzZFx1ZGUwMiIsICJTb3VyY2VMYW5ndWFnZUNvZGUiOiAiZW4iLCAiVGFyZ2V0TGFuZ3VhZ2VDb2RlIjogImVuIiwgIlNlbnRpbWVudCI6ICJORVVUUkFMIiwgIlNlbnRpbWVudFNjb3JlIjogeyJQb3NpdGl2ZSI6IDAuMDkwNTk4ODczNzk0MDc4ODMsICJOZWdhdGl2ZSI6IDAuMjc4OTI1MTUwNjMyODU4MywgIk5ldXRyYWwiOiAwLjMxNzIwNDg5MjYzNTM0NTQ2LCAiTWl4ZWQiOiAwLjMxMzI3MTA3NTQ4NzEzNjg0fSwgIkVudGl0aWVzIjogW3siQmFya2xleSI6ICJQRVJTT04ifSwgeyIjTkJBIjogIkVWRU5UIn1dfQo='}, {'recordId': 5, 'result': 'Ok', 'data': b'eyJjcmVhdGVkX2F0IjogIkZyaSBBcHIgMjIgMDA6NDg6MjggKzAwMDAgMjAyMiIsICJoYW5kbGUiOiAiRWxKb3JnaXRvUGlja3MiLCAidGV4dCI6ICJHcnVwbyBkZSAjTUxCIHkgI05CQSBob3kuIENvbWVuemFuZG8gY29uIHRvZG8gXHVkODNkXHVkY2FhIGh0dHBzOi8vdC5jby9yeFZMc282SkI2IiwgImZhdm91cml0ZV9jb3VudCI6IDI5ODIsICJyZXR3ZWV0X2NvdW50IjogMCwgInJldHdlZXRlZCI6IGZhbHNlLCAiZm9sbG93ZXJzX2NvdW50IjogMTI0NiwgImZyaWVuZHNfY291bnQiOiA1NiwgImxvY2F0aW9uIjogIlx1ZDgzY1x1ZGY0NUNMTiB8IENETVhcdWQ4M2NcdWRkZjJcdWQ4M2NcdWRkZmQiLCAibGFuZyI6IG51bGwsICJUcmFuc2xhdGVkVGV4dCI6ICJHcm91cCBvZiAjTUxCIGFuZCAjTkJBIHRvZGF5LiBTdGFydGluZyB3aXRoIGV2ZXJ5dGhpbmcgXHVkODNkXHVkY2FhIGh0dHBzOi8vdC5jby9yeFZMc282SkI2IiwgIlNvdXJjZUxhbmd1YWdlQ29kZSI6ICJlcyIsICJUYXJnZXRMYW5ndWFnZUNvZGUiOiAiZW4iLCAiU2VudGltZW50IjogIk5FVVRSQUwiLCAiU2VudGltZW50U2NvcmUiOiB7IlBvc2l0aXZlIjogMC4xMDk0MDA1ODUyOTM3Njk4NCwgIk5lZ2F0aXZlIjogMC4wMDAxNjcwNTQ0Mjk3NjY3MjIwMiwgIk5ldXRyYWwiOiAwLjg5MDM5NjQ3NTc5MTkzMTIsICJNaXhlZCI6IDMuNTgzMjY4Njk5MDAzMzgzNWUtMDV9LCAiRW50aXRpZXMiOiBbeyIjTUxCIjogIkVWRU5UIn0sIHsiI05CQSI6ICJFVkVOVCJ9LCB7InRvZGF5IjogIkRBVEUifSwgeyJodHRwczovL3QuY28vcnhWTHNvNkpCNiI6ICJPVEhFUiJ9XX0K'}]\n"
     ]
    }
   ],
   "source": [
    "def lambda_handler(event, context):\n",
    "    \n",
    "    output = []\n",
    "    for record in event[\"records\"]:\n",
    "        payload = base64.b64decode(record[\"data\"]).decode(\"utf-8\")\n",
    "     \n",
    "        data = json.loads(payload)\n",
    "        translate_response  = aws_translate(data['text'])\n",
    "        sentiment_response = sentiment_analysis(translate_response[\"TranslatedText\"])\n",
    "        entity_response = entity_detection(translate_response[\"TranslatedText\"])\n",
    "        # add all the ML response dict key,value pairs to original text payload \n",
    "        data_adapted = dict(list(itertools.chain(data.items(), translate_response.items(), sentiment_response.items(), entity_response.items())))        \n",
    "        # convert back to json str for adding new line\n",
    "        payload_adapted = json.dumps(data_adapted)\n",
    "        row_w_newline = payload_adapted + \"\\n\"\n",
    "        row_w_newline = base64.b64encode(row_w_newline.encode(\"utf-8\"))\n",
    "\n",
    "        output_record = {\n",
    "            \"recordId\": record[\"recordId\"],\n",
    "            \"result\": \"Ok\",\n",
    "            \"data\": row_w_newline,\n",
    "        }\n",
    "        \n",
    "        output.append(output_record)\n",
    "\n",
    "    print(\"Processed {} records.\".format(len(event[\"records\"])))\n",
    "    print(output)\n",
    "\n",
    "    return {\"records\": output}\n",
    "\n",
    "result = lambda_handler(event, context=None)\n"
   ]
  },
  {
   "cell_type": "code",
   "execution_count": 114,
   "id": "ba5b0a2a",
   "metadata": {},
   "outputs": [
    {
     "name": "stdout",
     "output_type": "stream",
     "text": [
      "{\"created_at\": \"Fri Apr 22 00:48:24 +0000 2022\", \"handle\": \"KTayiti\", \"text\": \"Hey There! Here's a New Post On: The Thunder's Oklahoma Spirit |  https://t.co/0LKbCEF0eO....Check it out. https://t.co/UFzHOTN49s  #NBA #NHL  #NFL https://t.co/eBYPGokV2K\", \"favourite_count\": 0, \"retweet_count\": 0, \"retweeted\": false, \"followers_count\": 2, \"friends_count\": 28, \"location\": null, \"lang\": null, \"TranslatedText\": \"Hey There! Here's a New Post On: The Thunder's Oklahoma Spirit | https://t.co/0LKbCEF0eO....Check it out. https://t.co/UFzHOTN49s #NBA #NHL #NFL https://t.co/eBYPGokV2K\", \"SourceLanguageCode\": \"en\", \"TargetLanguageCode\": \"en\", \"Sentiment\": \"NEUTRAL\", \"SentimentScore\": {\"Positive\": 0.06542280316352844, \"Negative\": 0.0005786336841993034, \"Neutral\": 0.9339877367019653, \"Mixed\": 1.0811897482199129e-05}, \"Entities\": [{\"Thunder\": \"ORGANIZATION\"}, {\"https://t.co/0LKbCEF0eO....Check\": \"OTHER\"}, {\"https://t.co/UFzHOTN49s\": \"OTHER\"}, {\"#NBA\": \"EVENT\"}, {\"#NHL\": \"EVENT\"}, {\"#NFL\": \"EVENT\"}, {\"https://t.co/eBYPGokV2K\": \"OTHER\"}]}\n",
      "\n",
      "{\"created_at\": \"Fri Apr 22 00:49:29 +0000 2022\", \"handle\": \"MichaelBirmin17\", \"text\": \"CREEMOS. Y este equipo es muy bueno cuando hace eso.\\n#GrindCity #NBA\", \"favourite_count\": 1556, \"retweet_count\": 0, \"retweeted\": false, \"followers_count\": 118, \"friends_count\": 224, \"location\": \"Budapest (Hungr\\u00eda)\", \"lang\": null, \"TranslatedText\": \"WE BELIEVE. And this team is very good when it does that.\\n#GrindCity #NBA\", \"SourceLanguageCode\": \"es\", \"TargetLanguageCode\": \"en\", \"Sentiment\": \"POSITIVE\", \"SentimentScore\": {\"Positive\": 0.9941927790641785, \"Negative\": 0.00014637647836934775, \"Neutral\": 0.005625463556498289, \"Mixed\": 3.541145633789711e-05}, \"Entities\": [{\"#GrindCity\": \"ORGANIZATION\"}, {\"#NBA\": \"EVENT\"}]}\n",
      "\n",
      "{\"created_at\": \"Fri Apr 22 00:48:33 +0000 2022\", \"handle\": \"s1383javad\", \"text\": \"Check out this item on OpenSea https://t.co/s6kN4g3IZE via @opensea \\n#opensea #OpenSeaNFT #nft #eth #nba #web3 #\", \"favourite_count\": 1469, \"retweet_count\": 0, \"retweeted\": false, \"followers_count\": 207, \"friends_count\": 668, \"location\": \"iran-tehran\", \"lang\": null, \"TranslatedText\": \"Check out this item on OpenSea https://t.co/s6kN4g3IZE via @opensea \\n#opensea #OpenSeaNFT #nft #eth #nba #web3 #\", \"SourceLanguageCode\": \"en\", \"TargetLanguageCode\": \"en\", \"Sentiment\": \"NEUTRAL\", \"SentimentScore\": {\"Positive\": 0.0019605965353548527, \"Negative\": 0.00013516063336282969, \"Neutral\": 0.9976505637168884, \"Mixed\": 0.00025365492911078036}, \"Entities\": [{\"OpenSea\": \"TITLE\"}, {\"https://t.co/s6kN4g3IZE\": \"OTHER\"}, {\"@opensea\": \"ORGANIZATION\"}, {\"#opensea\": \"ORGANIZATION\"}, {\"#OpenSeaNFT\": \"ORGANIZATION\"}, {\"#nba\": \"ORGANIZATION\"}]}\n",
      "\n",
      "{\"created_at\": \"Fri Apr 22 00:48:31 +0000 2022\", \"handle\": \"TinaLara29\", \"text\": \"Barkley said dumber then rocks.#NBA \\ud83d\\ude02\", \"favourite_count\": 90286, \"retweet_count\": 0, \"retweeted\": false, \"followers_count\": 2720, \"friends_count\": 2773, \"location\": \"Houston, TX\", \"lang\": null, \"TranslatedText\": \"Barkley said dumber then rocks.#NBA \\ud83d\\ude02\", \"SourceLanguageCode\": \"en\", \"TargetLanguageCode\": \"en\", \"Sentiment\": \"NEUTRAL\", \"SentimentScore\": {\"Positive\": 0.09059887379407883, \"Negative\": 0.2789251506328583, \"Neutral\": 0.31720489263534546, \"Mixed\": 0.31327107548713684}, \"Entities\": [{\"Barkley\": \"PERSON\"}, {\"#NBA\": \"EVENT\"}]}\n",
      "\n",
      "{\"created_at\": \"Fri Apr 22 00:48:28 +0000 2022\", \"handle\": \"ElJorgitoPicks\", \"text\": \"Grupo de #MLB y #NBA hoy. Comenzando con todo \\ud83d\\udcaa https://t.co/rxVLso6JB6\", \"favourite_count\": 2982, \"retweet_count\": 0, \"retweeted\": false, \"followers_count\": 1246, \"friends_count\": 56, \"location\": \"\\ud83c\\udf45CLN | CDMX\\ud83c\\uddf2\\ud83c\\uddfd\", \"lang\": null, \"TranslatedText\": \"Group of #MLB and #NBA today. Starting with everything \\ud83d\\udcaa https://t.co/rxVLso6JB6\", \"SourceLanguageCode\": \"es\", \"TargetLanguageCode\": \"en\", \"Sentiment\": \"NEUTRAL\", \"SentimentScore\": {\"Positive\": 0.10940058529376984, \"Negative\": 0.00016705442976672202, \"Neutral\": 0.8903964757919312, \"Mixed\": 3.5832686990033835e-05}, \"Entities\": [{\"#MLB\": \"EVENT\"}, {\"#NBA\": \"EVENT\"}, {\"today\": \"DATE\"}, {\"https://t.co/rxVLso6JB6\": \"OTHER\"}]}\n",
      "\n"
     ]
    }
   ],
   "source": [
    "for i in range(len(result['records'])):\n",
    "               print(base64.b64decode(result['records'][i]['data']).decode(\"utf-8\"))"
   ]
  }
 ],
 "metadata": {
  "kernelspec": {
   "display_name": "aws_etl",
   "language": "python",
   "name": "aws-etl-fv9wwbi4-py3.9"
  },
  "language_info": {
   "codemirror_mode": {
    "name": "ipython",
    "version": 3
   },
   "file_extension": ".py",
   "mimetype": "text/x-python",
   "name": "python",
   "nbconvert_exporter": "python",
   "pygments_lexer": "ipython3",
   "version": "3.9.1"
  }
 },
 "nbformat": 4,
 "nbformat_minor": 5
}
