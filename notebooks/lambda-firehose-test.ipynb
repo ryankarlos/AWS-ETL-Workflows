{
 "cells": [
  {
   "cell_type": "code",
   "execution_count": 59,
   "id": "993693a5",
   "metadata": {},
   "outputs": [],
   "source": [
    "import boto3\n",
    "import json\n",
    "import itertools\n",
    "comprehend = boto3.client(service_name='comprehend', region_name='us-east-1')\n",
    "translate = boto3.client(service_name='translate')\n",
    "\n",
    "payload = {\"created_at\": \"Mon Apr 18 04:47:12 +0000 2022\",\"handle\": \"hylannaaa\", \"text\": \"I genuinely dunno. Lol we had Easter egg hunts with plastic eggs filled with candy and a few dollars sometime\\ud83d\\ude02\", \"favourite_count\": 3519, \"retweet_count\": 0, \"retweeted\": False, \"followers_count\": 379, \"friends_count\": 357, \"location\": \"Spring, TX\", \"lang\": None}\n",
    "\n"
   ]
  },
  {
   "cell_type": "code",
   "execution_count": 60,
   "id": "42ff6628",
   "metadata": {},
   "outputs": [
    {
     "name": "stdout",
     "output_type": "stream",
     "text": [
      "{\n",
      "    \"SourceLanguageCode\": \"en\",\n",
      "    \"TargetLanguageCode\": \"en\",\n",
      "    \"TranslatedText\": \"I genuinely dunno. Lol we had Easter egg hunts with plastic eggs filled with candy and a few dollars sometime\\ud83d\\ude02\"\n",
      "}\n"
     ]
    }
   ],
   "source": [
    "response = translate.translate_text(Text=payload['text'],  SourceLanguageCode='auto',TargetLanguageCode='en')\n",
    "response.pop('ResponseMetadata')\n",
    "print(json.dumps(response, sort_keys=True, indent=4))"
   ]
  },
  {
   "cell_type": "code",
   "execution_count": 61,
   "id": "101af30e",
   "metadata": {},
   "outputs": [
    {
     "name": "stdout",
     "output_type": "stream",
     "text": [
      "{'Sentiment': 'NEUTRAL', 'SentimentScore': '{\"Positive\": 0.09459041059017181, \"Negative\": 0.2579473555088043, \"Neutral\": 0.5525000095367432, \"Mixed\": 0.09496216475963593}'}\n",
      "{\n",
      "    \"Sentiment\": \"NEUTRAL\",\n",
      "    \"SentimentScore\": \"{\\\"Positive\\\": 0.09459041059017181, \\\"Negative\\\": 0.2579473555088043, \\\"Neutral\\\": 0.5525000095367432, \\\"Mixed\\\": 0.09496216475963593}\"\n",
      "}\n"
     ]
    }
   ],
   "source": [
    "sentiment = comprehend.detect_sentiment(Text=payload['text'], LanguageCode='en')\n",
    "sentiment.pop('ResponseMetadata')\n",
    "sentiment[\"SentimentScore\"] = json.dumps(sentiment.get(\"SentimentScore\"))\n",
    "print(sentiment)\n",
    "print(json.dumps(sentiment, sort_keys=True, indent=4))\n"
   ]
  },
  {
   "cell_type": "code",
   "execution_count": 97,
   "id": "0a67da8a",
   "metadata": {},
   "outputs": [
    {
     "data": {
      "text/plain": [
       "{'Entities': b'[{\"messiah\": \"PERSON\"}, {\"today\": \"DATE\"}, {\"Lord\": \"PERSON\"}, {\"https://t.co/2YOcwbmwPX\": \"OTHER\"}]'}"
      ]
     },
     "execution_count": 97,
     "metadata": {},
     "output_type": "execute_result"
    }
   ],
   "source": [
    "entities = comprehend.detect_entities(Text=text, LanguageCode='en')\n",
    "entity_dict = {'Entities': json.dumps([{item['Text']: item['Type']} for item in entities['Entities']]).encode('utf-8')}\n",
    "entity_dict"
   ]
  },
  {
   "cell_type": "code",
   "execution_count": 99,
   "id": "70baeaf5",
   "metadata": {},
   "outputs": [
    {
     "data": {
      "text/plain": [
       "{'created_at': 'Mon Apr 18 04:47:12 +0000 2022',\n",
       " 'handle': 'hylannaaa',\n",
       " 'text': 'I genuinely dunno. Lol we had Easter egg hunts with plastic eggs filled with candy and a few dollars sometime\\ud83d\\ude02',\n",
       " 'favourite_count': 3519,\n",
       " 'retweet_count': 0,\n",
       " 'retweeted': False,\n",
       " 'followers_count': 379,\n",
       " 'friends_count': 357,\n",
       " 'location': 'Spring, TX',\n",
       " 'lang': None,\n",
       " 'TranslatedText': 'I genuinely dunno. Lol we had Easter egg hunts with plastic eggs filled with candy and a few dollars sometime😂',\n",
       " 'SourceLanguageCode': 'en',\n",
       " 'TargetLanguageCode': 'en',\n",
       " 'Sentiment': 'NEUTRAL',\n",
       " 'SentimentScore': '{\"Positive\": 0.09459041059017181, \"Negative\": 0.2579473555088043, \"Neutral\": 0.5525000095367432, \"Mixed\": 0.09496216475963593}',\n",
       " 'Entities': b'[{\"messiah\": \"PERSON\"}, {\"today\": \"DATE\"}, {\"Lord\": \"PERSON\"}, {\"https://t.co/2YOcwbmwPX\": \"OTHER\"}]'}"
      ]
     },
     "execution_count": 99,
     "metadata": {},
     "output_type": "execute_result"
    }
   ],
   "source": [
    "\n",
    "output = dict(list(itertools.chain(payload.items(), response.items(), sentiment.items(), entity_dict.items())))\n",
    "output"
   ]
  }
 ],
 "metadata": {
  "kernelspec": {
   "display_name": "aws_etl",
   "language": "python",
   "name": "aws-etl-fv9wwbi4-py3.9"
  },
  "language_info": {
   "codemirror_mode": {
    "name": "ipython",
    "version": 3
   },
   "file_extension": ".py",
   "mimetype": "text/x-python",
   "name": "python",
   "nbconvert_exporter": "python",
   "pygments_lexer": "ipython3",
   "version": "3.9.1"
  }
 },
 "nbformat": 4,
 "nbformat_minor": 5
}
