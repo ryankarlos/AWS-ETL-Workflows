{
 "cells": [
  {
   "cell_type": "code",
   "execution_count": 1,
   "id": "5ece78ef",
   "metadata": {},
   "outputs": [
    {
     "name": "stdout",
     "output_type": "stream",
     "text": [
      "Starting Spark application\n"
     ]
    },
    {
     "data": {
      "text/html": [
       "<table>\n",
       "<tr><th>ID</th><th>YARN Application ID</th><th>Kind</th><th>State</th><th>Spark UI</th><th>Driver log</th><th>User</th><th>Current session?</th></tr><tr><td>3</td><td>application_1648937572890_0004</td><td>pyspark</td><td>idle</td><td><a target=\"_blank\" href=\"http://ip-172-36-144-198.ec2.internal:20888/proxy/application_1648937572890_0004/\">Link</a></td><td><a target=\"_blank\" href=\"http://ip-172-36-55-123.ec2.internal:8042/node/containerlogs/container_1648937572890_0004_01_000001/livy\">Link</a></td><td>None</td><td>✔</td></tr></table>"
      ],
      "text/plain": [
       "<IPython.core.display.HTML object>"
      ]
     },
     "metadata": {},
     "output_type": "display_data"
    },
    {
     "data": {
      "application/vnd.jupyter.widget-view+json": {
       "model_id": "be7230cabcdb4d849bde56f612df399b",
       "version_major": 2,
       "version_minor": 0
      },
      "text/plain": [
       "FloatProgress(value=0.0, bar_style='info', description='Progress:', layout=Layout(height='25px', width='50%'),…"
      ]
     },
     "metadata": {},
     "output_type": "display_data"
    },
    {
     "name": "stdout",
     "output_type": "stream",
     "text": [
      "SparkSession available as 'spark'.\n"
     ]
    },
    {
     "data": {
      "application/vnd.jupyter.widget-view+json": {
       "model_id": "94c394feb96449f0ab0634d17545fee5",
       "version_major": 2,
       "version_minor": 0
      },
      "text/plain": [
       "FloatProgress(value=0.0, bar_style='info', description='Progress:', layout=Layout(height='25px', width='50%'),…"
      ]
     },
     "metadata": {},
     "output_type": "display_data"
    }
   ],
   "source": [
    "import sys\n",
    "from awsglue.transforms import *\n",
    "from awsglue.utils import getResolvedOptions\n",
    "from pyspark.context import SparkContext\n",
    "from awsglue.context import GlueContext\n",
    "from awsglue.job import Job\n",
    "from awsglue.dynamicframe import DynamicFrame\n",
    "\n",
    "glueContext = GlueContext(SparkContext.getOrCreate())"
   ]
  },
  {
   "cell_type": "markdown",
   "id": "7349695f",
   "metadata": {},
   "source": [
    "#### Check schema of source table in glue catalog and number of rows"
   ]
  },
  {
   "cell_type": "code",
   "execution_count": 2,
   "id": "4965c2f6",
   "metadata": {},
   "outputs": [
    {
     "data": {
      "application/vnd.jupyter.widget-view+json": {
       "model_id": "57ea9b4a168440509f1052167e4c6956",
       "version_major": 2,
       "version_minor": 0
      },
      "text/plain": [
       "FloatProgress(value=0.0, bar_style='info', description='Progress:', layout=Layout(height='25px', width='50%'),…"
      ]
     },
     "metadata": {},
     "output_type": "display_data"
    },
    {
     "name": "stdout",
     "output_type": "stream",
     "text": [
      "\n",
      " Count: 1048575\n",
      "root\n",
      "|-- 'year': long\n",
      "|-- 'month': long\n",
      "|-- 'dayofmonth': long\n",
      "|-- 'dayofweek': long\n",
      "|-- 'deptime': long\n",
      "|-- 'crsdeptime': long\n",
      "|-- 'arrtime': long\n",
      "|-- 'crsarrtime': long\n",
      "|-- 'uniquecarrier': string\n",
      "|-- 'flightnum': long\n",
      "|-- 'tailnum': string\n",
      "|-- 'actualelapsedtime': long\n",
      "|-- 'crselapsedtime': long\n",
      "|-- 'airtime': long\n",
      "|-- 'arrdelay': long\n",
      "|-- 'depdelay': long\n",
      "|-- 'origin': string\n",
      "|-- 'dest': string\n",
      "|-- 'distance': long\n",
      "|-- 'taxiin': long\n",
      "|-- 'taxiout': long\n",
      "|-- 'cancelled': long\n",
      "|-- 'cancellationcode': string\n",
      "|-- 'diverted': long\n",
      "|-- 'carrierdelay': long\n",
      "|-- 'weatherdelay': long\n",
      "|-- 'nasdelay': long\n",
      "|-- 'securitydelay': long\n",
      "|-- 'lateaircraftdelay': long"
     ]
    }
   ],
   "source": [
    "flights_dynamic = glueContext.create_dynamic_frame.from_catalog(database=\"flights_summary\", table_name=\"delays\")\n",
    "init_rowcount = flights_dynamic.count()\n",
    "print(\"\\n Count: \" + str(init_rowcount))\n",
    "flights_dynamic.printSchema()"
   ]
  },
  {
   "cell_type": "markdown",
   "id": "7a2144cf",
   "metadata": {},
   "source": [
    "#### input source Amazon S3"
   ]
  },
  {
   "cell_type": "code",
   "execution_count": 3,
   "id": "b70dfa45",
   "metadata": {},
   "outputs": [
    {
     "data": {
      "application/vnd.jupyter.widget-view+json": {
       "model_id": "b8ef947ca4dd47e8b6d0e980ac680dec",
       "version_major": 2,
       "version_minor": 0
      },
      "text/plain": [
       "FloatProgress(value=0.0, bar_style='info', description='Progress:', layout=Layout(height='25px', width='50%'),…"
      ]
     },
     "metadata": {},
     "output_type": "display_data"
    }
   ],
   "source": [
    "s3_raw_flights_ddf = glueContext.create_dynamic_frame.from_catalog(\n",
    "    database=\"flights_summary\",\n",
    "    table_name=\"delays\",\n",
    "    transformation_ctx=\"s3_raw_flights_csv\",\n",
    ")\n"
   ]
  },
  {
   "cell_type": "markdown",
   "id": "9742fb47",
   "metadata": {},
   "source": [
    "#### node dropfields transform\n",
    "\n",
    "we can also confirm the fields have been dropped by printing schema using output dynamic df "
   ]
  },
  {
   "cell_type": "code",
   "execution_count": 5,
   "id": "2c065be1",
   "metadata": {},
   "outputs": [
    {
     "data": {
      "application/vnd.jupyter.widget-view+json": {
       "model_id": "78292b3c4a8e42f7997cc9e582c34e51",
       "version_major": 2,
       "version_minor": 0
      },
      "text/plain": [
       "FloatProgress(value=0.0, bar_style='info', description='Progress:', layout=Layout(height='25px', width='50%'),…"
      ]
     },
     "metadata": {},
     "output_type": "display_data"
    }
   ],
   "source": [
    "\n",
    "# Script generated for node Drop Fields\n",
    "dropfields_ddf = DropFields.apply(\n",
    "    frame=s3_raw_flights_ddf,\n",
    "    paths=[\n",
    "        \"'year'\",\n",
    "        \"'deptime'\",\n",
    "        \"'dayofweek'\",\n",
    "        \"'crsdeptime'\",\n",
    "        \"'arrtime'\",\n",
    "        \"'crsarrtime'\",\n",
    "        \"'flightnum'\",\n",
    "        \"'tailnum'\",\n",
    "        \"'crselapsedtime'\",\n",
    "        \"'airtime'\",\n",
    "        \"'arrdelay'\",\n",
    "        \"'depdelay'\",\n",
    "        \"'taxiin'\",\n",
    "        \"'taxiout'\",\n",
    "        \"'cancelled'\",\n",
    "        \"'cancellationcode'\",\n",
    "    ],\n",
    "    transformation_ctx=\"dropfields\",\n",
    ")"
   ]
  },
  {
   "cell_type": "code",
   "execution_count": 6,
   "id": "ac562f13",
   "metadata": {},
   "outputs": [
    {
     "data": {
      "application/vnd.jupyter.widget-view+json": {
       "model_id": "da9c6ca93e2245c0b237227a36ba8744",
       "version_major": 2,
       "version_minor": 0
      },
      "text/plain": [
       "FloatProgress(value=0.0, bar_style='info', description='Progress:', layout=Layout(height='25px', width='50%'),…"
      ]
     },
     "metadata": {},
     "output_type": "display_data"
    },
    {
     "name": "stdout",
     "output_type": "stream",
     "text": [
      "root\n",
      "|-- 'month': long\n",
      "|-- 'dayofmonth': long\n",
      "|-- 'uniquecarrier': string\n",
      "|-- 'actualelapsedtime': long\n",
      "|-- 'origin': string\n",
      "|-- 'dest': string\n",
      "|-- 'distance': long\n",
      "|-- 'diverted': long\n",
      "|-- 'carrierdelay': long\n",
      "|-- 'weatherdelay': long\n",
      "|-- 'nasdelay': long\n",
      "|-- 'securitydelay': long\n",
      "|-- 'lateaircraftdelay': long"
     ]
    }
   ],
   "source": [
    "dropfields_ddf.printSchema()"
   ]
  },
  {
   "cell_type": "markdown",
   "id": "4dc99f34",
   "metadata": {},
   "source": [
    "#### Map cols to new names and cast types"
   ]
  },
  {
   "cell_type": "code",
   "execution_count": 7,
   "id": "5b0c8022",
   "metadata": {},
   "outputs": [
    {
     "data": {
      "application/vnd.jupyter.widget-view+json": {
       "model_id": "96bf9816d0fa418fa4f5eddb8f9d2a9e",
       "version_major": 2,
       "version_minor": 0
      },
      "text/plain": [
       "FloatProgress(value=0.0, bar_style='info', description='Progress:', layout=Layout(height='25px', width='50%'),…"
      ]
     },
     "metadata": {},
     "output_type": "display_data"
    }
   ],
   "source": [
    "\n",
    "# Script generated for node Apply Mapping\n",
    "apply_mapping_ddf = ApplyMapping.apply(\n",
    "    frame=dropfields_ddf,\n",
    "    mappings=[\n",
    "        (\"'month'\", \"long\", \"'month'\", \"int\"),\n",
    "        (\"'dayofmonth'\", \"long\", \"'dayofmonth'\", \"int\"),\n",
    "        (\"'uniquecarrier'\", \"string\", \"'uniquecarrier'\", \"string\"),\n",
    "        (\"'actualelapsedtime'\", \"long\", \"'actualelapsedtime'\", \"long\"),\n",
    "        (\"'origin'\", \"string\", \"'origin'\", \"string\"),\n",
    "        (\"'dest'\", \"string\", \"'dest'\", \"string\"),\n",
    "        (\"'distance'\", \"long\", \"'distance'\", \"long\"),\n",
    "        (\"'diverted'\", \"long\", \"'diverted'\", \"tinyint\"),\n",
    "        (\"'carrierdelay'\", \"long\", \"'carrierdelay'\", \"long\"),\n",
    "        (\"'weatherdelay'\", \"long\", \"'weatherdelay'\", \"long\"),\n",
    "        (\"'nasdelay'\", \"long\", \"'nasdelay'\", \"long\"),\n",
    "        (\"'securitydelay'\", \"long\", \"'securitydelay'\", \"long\"),\n",
    "        (\"'lateaircraftdelay'\", \"long\", \"'lateaircraftdelay'\", \"long\"),\n",
    "    ],\n",
    "    transformation_ctx=\"col_rename_and_cast_types\",\n",
    ")"
   ]
  },
  {
   "cell_type": "code",
   "execution_count": 8,
   "id": "9050f87e",
   "metadata": {},
   "outputs": [
    {
     "data": {
      "application/vnd.jupyter.widget-view+json": {
       "model_id": "e25fd72ded044c6586db2998fd8660ea",
       "version_major": 2,
       "version_minor": 0
      },
      "text/plain": [
       "FloatProgress(value=0.0, bar_style='info', description='Progress:', layout=Layout(height='25px', width='50%'),…"
      ]
     },
     "metadata": {},
     "output_type": "display_data"
    },
    {
     "name": "stdout",
     "output_type": "stream",
     "text": [
      "root\n",
      "|-- 'month': int\n",
      "|-- 'dayofmonth': int\n",
      "|-- 'uniquecarrier': string\n",
      "|-- 'actualelapsedtime': long\n",
      "|-- 'origin': string\n",
      "|-- 'dest': string\n",
      "|-- 'distance': long\n",
      "|-- 'diverted': byte\n",
      "|-- 'carrierdelay': long\n",
      "|-- 'weatherdelay': long\n",
      "|-- 'nasdelay': long\n",
      "|-- 'securitydelay': long\n",
      "|-- 'lateaircraftdelay': long"
     ]
    }
   ],
   "source": [
    "apply_mapping_ddf.printSchema()"
   ]
  },
  {
   "cell_type": "markdown",
   "id": "9ad399ec",
   "metadata": {},
   "source": [
    "#### drop dupicates transform and count number of rows dropped"
   ]
  },
  {
   "cell_type": "code",
   "execution_count": 9,
   "id": "fb6fad66",
   "metadata": {},
   "outputs": [
    {
     "data": {
      "application/vnd.jupyter.widget-view+json": {
       "model_id": "63c006f6e5a44ea1bf42c127313d4389",
       "version_major": 2,
       "version_minor": 0
      },
      "text/plain": [
       "FloatProgress(value=0.0, bar_style='info', description='Progress:', layout=Layout(height='25px', width='50%'),…"
      ]
     },
     "metadata": {},
     "output_type": "display_data"
    }
   ],
   "source": [
    "\n",
    "# Script generated for node Drop Duplicates\n",
    "dropduplicates_ddf = DynamicFrame.fromDF(\n",
    "    apply_mapping_ddf.toDF().dropDuplicates(),\n",
    "    glueContext,\n",
    "    \"DropDuplicates_node\",\n",
    ")\n"
   ]
  },
  {
   "cell_type": "code",
   "execution_count": 10,
   "id": "0239a5d4",
   "metadata": {},
   "outputs": [
    {
     "data": {
      "application/vnd.jupyter.widget-view+json": {
       "model_id": "cb615842e158434fb560c5f4d7fbf3ed",
       "version_major": 2,
       "version_minor": 0
      },
      "text/plain": [
       "FloatProgress(value=0.0, bar_style='info', description='Progress:', layout=Layout(height='25px', width='50%'),…"
      ]
     },
     "metadata": {},
     "output_type": "display_data"
    },
    {
     "name": "stdout",
     "output_type": "stream",
     "text": [
      " \n",
      " Number of duplicates dropped:6782"
     ]
    }
   ],
   "source": [
    "final_rowcount = dropduplicates_ddf.toDF().count()\n",
    "print(f\" \\n Number of duplicates dropped:{init_rowcount- final_rowcount}\") "
   ]
  },
  {
   "cell_type": "markdown",
   "id": "878867a2",
   "metadata": {},
   "source": [
    "#### create target node S3 sink and define parition cols and parquet format\n",
    "\n",
    "Also set table name in catalog to crawl output  "
   ]
  },
  {
   "cell_type": "code",
   "execution_count": 11,
   "id": "ecff5bda",
   "metadata": {},
   "outputs": [
    {
     "data": {
      "application/vnd.jupyter.widget-view+json": {
       "model_id": "7cb24559aa984b60ab296273c7f2e902",
       "version_major": 2,
       "version_minor": 0
      },
      "text/plain": [
       "FloatProgress(value=0.0, bar_style='info', description='Progress:', layout=Layout(height='25px', width='50%'),…"
      ]
     },
     "metadata": {},
     "output_type": "display_data"
    }
   ],
   "source": [
    "\n",
    "target_s3_node = glueContext.getSink(\n",
    "    path=\"s3://flight-delays-2008/output_glue_etl/\",\n",
    "    connection_type=\"s3\",\n",
    "    updateBehavior=\"UPDATE_IN_DATABASE\",\n",
    "    partitionKeys=[\"'month'\"],\n",
    "    compression=\"gzip\",\n",
    "    enableUpdateCatalog=True,\n",
    "    transformation_ctx=\"target_s3_node\",\n",
    ")"
   ]
  },
  {
   "cell_type": "code",
   "execution_count": 14,
   "id": "3c97e6b3",
   "metadata": {},
   "outputs": [
    {
     "data": {
      "application/vnd.jupyter.widget-view+json": {
       "model_id": "432ff4a746ad4b2db4fa0e14cf403e39",
       "version_major": 2,
       "version_minor": 0
      },
      "text/plain": [
       "FloatProgress(value=0.0, bar_style='info', description='Progress:', layout=Layout(height='25px', width='50%'),…"
      ]
     },
     "metadata": {},
     "output_type": "display_data"
    }
   ],
   "source": [
    "target_s3_node.setCatalogInfo(\n",
    "    catalogDatabase=\"flights_summary\", catalogTableName=\"fl_delays_with_codes\"\n",
    ")\n",
    "target_s3_node.setFormat(\"glueparquet\")\n"
   ]
  },
  {
   "cell_type": "markdown",
   "id": "7153fad5",
   "metadata": {},
   "source": [
    "#### write to s3  and check tables/data created in catalog"
   ]
  },
  {
   "cell_type": "code",
   "execution_count": 16,
   "id": "8251e664",
   "metadata": {},
   "outputs": [
    {
     "data": {
      "application/vnd.jupyter.widget-view+json": {
       "model_id": "4ae8faf17fc949e4aee99fb1db668df8",
       "version_major": 2,
       "version_minor": 0
      },
      "text/plain": [
       "FloatProgress(value=0.0, bar_style='info', description='Progress:', layout=Layout(height='25px', width='50%'),…"
      ]
     },
     "metadata": {},
     "output_type": "display_data"
    },
    {
     "name": "stdout",
     "output_type": "stream",
     "text": [
      "<awsglue.dynamicframe.DynamicFrame object at 0x7fbc130d0e48>"
     ]
    }
   ],
   "source": [
    "target_s3_node.writeFrame(dropduplicates_ddf)"
   ]
  },
  {
   "cell_type": "code",
   "execution_count": 20,
   "id": "62574ba2",
   "metadata": {},
   "outputs": [
    {
     "data": {
      "application/vnd.jupyter.widget-view+json": {
       "model_id": "13695e75037347abb468fa3c199b1781",
       "version_major": 2,
       "version_minor": 0
      },
      "text/plain": [
       "FloatProgress(value=0.0, bar_style='info', description='Progress:', layout=Layout(height='25px', width='50%'),…"
      ]
     },
     "metadata": {},
     "output_type": "display_data"
    },
    {
     "name": "stdout",
     "output_type": "stream",
     "text": [
      "+---------------+--------------------+-----------+\n",
      "|       database|           tableName|isTemporary|\n",
      "+---------------+--------------------+-----------+\n",
      "|flights_summary|              delays|      false|\n",
      "|flights_summary|fl_delays_with_codes|      false|\n",
      "+---------------+--------------------+-----------+"
     ]
    }
   ],
   "source": [
    "spark.sql('use flights_summary')\n",
    "spark.sql('show tables').show()"
   ]
  },
  {
   "cell_type": "code",
   "execution_count": 62,
   "id": "c5a2eb27",
   "metadata": {},
   "outputs": [
    {
     "data": {
      "application/vnd.jupyter.widget-view+json": {
       "model_id": "96b7b973c7bc4fc5b5119ca635054154",
       "version_major": 2,
       "version_minor": 0
      },
      "text/plain": [
       "FloatProgress(value=0.0, bar_style='info', description='Progress:', layout=Layout(height='25px', width='50%'),…"
      ]
     },
     "metadata": {},
     "output_type": "display_data"
    },
    {
     "name": "stdout",
     "output_type": "stream",
     "text": [
      "+------------+---------------+-------------------+--------+------+----------+----------+--------------+--------------+----------+---------------+-------------------+-------+\n",
      "|'dayofmonth'|'uniquecarrier'|'actualelapsedtime'|'origin'|'dest'|'distance'|'diverted'|'carrierdelay'|'weatherdelay'|'nasdelay'|'securitydelay'|'lateaircraftdelay'|'month'|\n",
      "+------------+---------------+-------------------+--------+------+----------+----------+--------------+--------------+----------+---------------+-------------------+-------+\n",
      "|           3|             WN|                 64|     HOU|   HRL|       276|         0|             0|             0|         4|              0|                 61|      3|\n",
      "|           3|             WN|                107|     MDW|   LIT|       544|         0|            11|             0|         2|              0|                 43|      3|\n",
      "|           3|             WN|                 58|     OKC|   DAL|       181|         0|             3|             0|         8|              0|                 23|      3|\n",
      "|           3|             WN|                 62|     SDF|   BHM|       323|         0|          null|          null|      null|           null|               null|      3|\n",
      "|           3|             WN|                 77|     SMF|   SAN|       480|         0|             0|             0|         0|              0|                 19|      3|\n",
      "|           4|             WN|                 62|     BWI|   RDU|       255|         0|             3|             0|         0|              0|                 17|      3|\n",
      "|           4|             WN|                117|     JAX|   BWI|       663|         0|             3|             0|        12|              0|                  9|      3|\n",
      "|           4|             WN|                 80|     LAS|   OAK|       407|         0|             2|             0|         0|              0|                 27|      3|\n",
      "|           4|             WN|                113|     PHX|   DEN|       602|         0|            13|             0|         8|              0|                  2|      3|\n",
      "|           5|             WN|                 69|     MSY|   HOU|       303|         0|            40|             0|         0|              0|                  0|      3|\n",
      "+------------+---------------+-------------------+--------+------+----------+----------+--------------+--------------+----------+---------------+-------------------+-------+"
     ]
    }
   ],
   "source": [
    "spark.sql('select * from fl_delays_with_codes limit 10').show()"
   ]
  }
 ],
 "metadata": {
  "kernelspec": {
   "display_name": "Sparkmagic (PySpark)",
   "language": "python",
   "name": "pysparkkernel"
  },
  "language_info": {
   "codemirror_mode": {
    "name": "python",
    "version": 3
   },
   "file_extension": ".py",
   "mimetype": "text/x-python",
   "name": "pyspark",
   "pygments_lexer": "python3"
  }
 },
 "nbformat": 4,
 "nbformat_minor": 5
}
