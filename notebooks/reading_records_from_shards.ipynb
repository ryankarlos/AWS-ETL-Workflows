{
 "cells": [
  {
   "cell_type": "markdown",
   "id": "dd2f97c3",
   "metadata": {},
   "source": [
    "Listing the existing shards in kinesis stream https://docs.aws.amazon.com/cli/latest/reference/kinesis/list-shards.html. This displays shard-id and seqeunce number which required for generating shard-iterator which is required as parameter for kinesis get-records action"
   ]
  },
  {
   "cell_type": "code",
   "execution_count": 12,
   "id": "fdc1e780",
   "metadata": {},
   "outputs": [
    {
     "name": "stdout",
     "output_type": "stream",
     "text": [
      "{\n",
      "    \"Shards\": [\n",
      "        {\n",
      "            \"ShardId\": \"shardId-000000000000\",\n",
      "            \"HashKeyRange\": {\n",
      "                \"StartingHashKey\": \"0\",\n",
      "                \"EndingHashKey\": \"85070591730234615865843651857942052863\"\n",
      "            },\n",
      "            \"SequenceNumberRange\": {\n",
      "                \"StartingSequenceNumber\": \"49628678101426762247045407541007456333915361328442114050\"\n",
      "            }\n",
      "        },\n",
      "        {\n",
      "            \"ShardId\": \"shardId-000000000001\",\n",
      "            \"HashKeyRange\": {\n",
      "                \"StartingHashKey\": \"85070591730234615865843651857942052864\",\n",
      "                \"EndingHashKey\": \"170141183460469231731687303715884105727\"\n",
      "            },\n",
      "            \"SequenceNumberRange\": {\n",
      "                \"StartingSequenceNumber\": \"49628678101449062992243938164148992052188009689948094482\"\n",
      "            }\n",
      "        },\n",
      "        {\n",
      "            \"ShardId\": \"shardId-000000000002\",\n",
      "            \"HashKeyRange\": {\n",
      "                \"StartingHashKey\": \"170141183460469231731687303715884105728\",\n",
      "                \"EndingHashKey\": \"255211775190703847597530955573826158591\"\n",
      "            },\n",
      "            \"SequenceNumberRange\": {\n",
      "                \"StartingSequenceNumber\": \"49628678101471363737442468787290527770460658051454074914\"\n",
      "            }\n",
      "        },\n",
      "        {\n",
      "            \"ShardId\": \"shardId-000000000003\",\n",
      "            \"HashKeyRange\": {\n",
      "                \"StartingHashKey\": \"255211775190703847597530955573826158592\",\n",
      "                \"EndingHashKey\": \"340282366920938463463374607431768211455\"\n",
      "            },\n",
      "            \"SequenceNumberRange\": {\n",
      "                \"StartingSequenceNumber\": \"49628678101493664482640999410432063488733306412960055346\"\n",
      "            }\n",
      "        }\n",
      "    ]\n",
      "}\n"
     ]
    }
   ],
   "source": [
    "%%bash\n",
    "\n",
    "aws kinesis list-shards \\\n",
    "--stream-name kinesis-twitter-stream                    "
   ]
  },
  {
   "cell_type": "markdown",
   "id": "8537e629",
   "metadata": {},
   "source": [
    "\n",
    "\n",
    "Get Shard iterator using action from https://docs.aws.amazon.com/cli/latest/reference/kinesis/get-shard-iterator.html\n",
    "Note that once iterator returned, it expires after  5mins\n",
    "\n",
    "A shard iterator specifies the shard position from which to start reading data records sequentially. The position is specified using the sequence number of a data record in a shard. We pass this in as arg to command as well as shardid - both can be obtained from output of previous run cell above.\n",
    "\n",
    "The --shard-iterator-type can also be set to LATEST to start reading after the latest records. "
   ]
  },
  {
   "cell_type": "code",
   "execution_count": 61,
   "id": "96b13ac9",
   "metadata": {},
   "outputs": [
    {
     "name": "stdout",
     "output_type": "stream",
     "text": [
      "{\n",
      "    \"ShardIterator\": \"AAAAAAAAAAH9LVFqeiNJkoe5M+D4J3W018CHWD2W6+/FC9Mf3vdBGncpW8jmNOJA1kb0zA9z/6ouFWbKd703J64Ir160jWrE4jK2fbsbZXUYCynrUhiBT6GzV4/hPyC/dcqEW8oasCVUTsbKq/uWZs/IiuvflX+bHg1GiHGfuNtHq8hx3XJx6WuCacGbN8rHXuB1WZTuqBHicptQT7RKmd27SQU3cB6HxKOQj/kI0VJgytQ/76p2gTxsSpjGX5ps0oS1yFBhjh8=\"\n",
      "}\n"
     ]
    }
   ],
   "source": [
    "%%bash\n",
    "\n",
    " \n",
    "aws kinesis get-shard-iterator \\\n",
    "--stream-name kinesis-twitter-stream \\\n",
    "--shard-iterator-type AT_SEQUENCE_NUMBER  --starting-sequence-number 49628678101449062992243938164148992052188009689948094482 \\\n",
    "--shard-id shardId-000000000001\n",
    "\n",
    "\n",
    "# ------ Generating shard iterator using LATEST below. We can then stream records and \n",
    "# -- then use get-records in next cell to retrieve the latest records streamed\n",
    "\n",
    "# aws kinesis get-shard-iterator \\\n",
    "# --stream-name kinesis-twitter-stream \\\n",
    "# --shard-iterator-type LATEST \\\n",
    "# --shard-id shardId-000000000001"
   ]
  },
  {
   "cell_type": "markdown",
   "id": "7d84f453",
   "metadata": {},
   "source": [
    " We can get records from the iterator by using aws kinesis get-records action. The iterator value output from running command in cell above, can be passed as parameter --shard-iterator for get-records command https://docs.aws.amazon.com/cli/latest/reference/kinesis/get-records.html. This sequentially moves through the sequence numbers and output into json in datasets folder"
   ]
  },
  {
   "cell_type": "code",
   "execution_count": 71,
   "id": "d4eac392",
   "metadata": {},
   "outputs": [],
   "source": [
    "%%bash \n",
    "\n",
    "# if data exists in json get rid of it (as command below will append messing up json format)\n",
    "SHARD_RECORDS_PATH=../datasets/outputs/sample_shard_records.json\n",
    ">$SHARD_RECORDS_PATH\n",
    "\n",
    "aws kinesis get-records \\\n",
    "--shard-iterator \"AAAAAAAAAAH9LVFqeiNJkoe5M+D4J3W018CHWD2W6+/FC9Mf3vdBGncpW8jmNOJA1kb0zA9z/6ouFWbKd703J64Ir160jWrE4jK2fbsbZXUYCynrUhiBT6GzV4/hPyC/dcqEW8oasCVUTsbKq/uWZs/IiuvflX+bHg1GiHGfuNtHq8hx3XJx6WuCacGbN8rHXuB1WZTuqBHicptQT7RKmd27SQU3cB6HxKOQj/kI0VJgytQ/76p2gTxsSpjGX5ps0oS1yFBhjh8=\" \\\n",
    ">> $SHARD_RECORDS_PATH"
   ]
  },
  {
   "cell_type": "markdown",
   "id": "8c9d3c86",
   "metadata": {},
   "source": [
    "Reading from the shard records json into python dict and then checking records"
   ]
  },
  {
   "cell_type": "code",
   "execution_count": 72,
   "id": "3ec4e0f2",
   "metadata": {},
   "outputs": [],
   "source": [
    "\n",
    "import json\n",
    "\n",
    "\n",
    "with open(\"../datasets/outputs/sample_shard_records.json\") as f:\n",
    "    shard_data = json.load(f)\n",
    "\n"
   ]
  },
  {
   "cell_type": "code",
   "execution_count": 75,
   "id": "14568075",
   "metadata": {},
   "outputs": [
    {
     "name": "stdout",
     "output_type": "stream",
     "text": [
      "eyJkYXkiOiAxOCwgIm1vbnRoIjogNCwgInllYXIiOiAyMDIyLCAidGltZSI6ICIwMTowNTowMyIsICJoYW5kbGUiOiAiYm5kd2R0aCIsICJ0ZXh0IjogIkB2aXJnaW5tZWRpYSBFeGNlbGxlbnQ6IG15IGJyb2FkYmFuZCAjYmFuZHdpZHRoIGluICNOb3J0aGFudHMgaXMgNjEwTWJwcyBkb3duIGFuZCA0ME1icHMgdXAhICNNNjAwRmlicmUgI3N1cGVyZmFzdCBodHRwczovL3QuY28vV0k4WDRqZnZLQyIsICJmYXZvdXJpdGVfY291bnQiOiA0LCAicmV0d2VldF9jb3VudCI6IDAsICJyZXR3ZWV0ZWQiOiBmYWxzZSwgImZvbGxvd2Vyc19jb3VudCI6IDEyLCAiZnJpZW5kc19jb3VudCI6IDQsICJsb2NhdGlvbiI6ICJOb3J0aGFtcHRvbnNoaXJlLCBFbmdsYW5kIiwgImxhbmciOiBudWxsfQ==\n"
     ]
    }
   ],
   "source": [
    "first_record = shard_data['Records'][0]['Data']\n",
    "print(first_record)"
   ]
  },
  {
   "cell_type": "code",
   "execution_count": 76,
   "id": "1a7c74ad",
   "metadata": {},
   "outputs": [
    {
     "data": {
      "text/plain": [
       "{'day': 18,\n",
       " 'month': 4,\n",
       " 'year': 2022,\n",
       " 'time': '01:05:03',\n",
       " 'handle': 'bndwdth',\n",
       " 'text': '@virginmedia Excellent: my broadband #bandwidth in #Northants is 610Mbps down and 40Mbps up! #M600Fibre #superfast https://t.co/WI8X4jfvKC',\n",
       " 'favourite_count': 4,\n",
       " 'retweet_count': 0,\n",
       " 'retweeted': False,\n",
       " 'followers_count': 12,\n",
       " 'friends_count': 4,\n",
       " 'location': 'Northamptonshire, England',\n",
       " 'lang': None}"
      ]
     },
     "execution_count": 76,
     "metadata": {},
     "output_type": "execute_result"
    }
   ],
   "source": [
    "import base64\n",
    "json.loads(base64.b64decode(first_record).decode('utf-8'))"
   ]
  }
 ],
 "metadata": {
  "kernelspec": {
   "display_name": "aws_etl",
   "language": "python",
   "name": "aws-etl-fv9wwbi4-py3.9"
  },
  "language_info": {
   "codemirror_mode": {
    "name": "ipython",
    "version": 3
   },
   "file_extension": ".py",
   "mimetype": "text/x-python",
   "name": "python",
   "nbconvert_exporter": "python",
   "pygments_lexer": "ipython3",
   "version": "3.9.1"
  }
 },
 "nbformat": 4,
 "nbformat_minor": 5
}
