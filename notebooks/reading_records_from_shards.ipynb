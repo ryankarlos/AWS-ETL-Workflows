{
 "cells": [
  {
   "cell_type": "markdown",
   "id": "dd2f97c3",
   "metadata": {},
   "source": [
    "Listing the existing shards in kinesis stream https://docs.aws.amazon.com/cli/latest/reference/kinesis/list-shards.html. This displays shard-id and seqeunce number which required for generating shard-iterator which is required as parameter for kinesis get-records action"
   ]
  },
  {
   "cell_type": "code",
   "execution_count": 34,
   "id": "fdc1e780",
   "metadata": {},
   "outputs": [
    {
     "name": "stdout",
     "output_type": "stream",
     "text": [
      "{\n",
      "    \"Shards\": [\n",
      "        {\n",
      "            \"ShardId\": \"shardId-000000000000\",\n",
      "            \"HashKeyRange\": {\n",
      "                \"StartingHashKey\": \"0\",\n",
      "                \"EndingHashKey\": \"85070591730234615865843651857942052863\"\n",
      "            },\n",
      "            \"SequenceNumberRange\": {\n",
      "                \"StartingSequenceNumber\": \"49628804485637199052498835133288337056183523870576214018\"\n",
      "            }\n",
      "        },\n",
      "        {\n",
      "            \"ShardId\": \"shardId-000000000001\",\n",
      "            \"HashKeyRange\": {\n",
      "                \"StartingHashKey\": \"85070591730234615865843651857942052864\",\n",
      "                \"EndingHashKey\": \"170141183460469231731687303715884105727\"\n",
      "            },\n",
      "            \"SequenceNumberRange\": {\n",
      "                \"StartingSequenceNumber\": \"49628804485659499797697365756429872774456172232082194450\"\n",
      "            }\n",
      "        },\n",
      "        {\n",
      "            \"ShardId\": \"shardId-000000000002\",\n",
      "            \"HashKeyRange\": {\n",
      "                \"StartingHashKey\": \"170141183460469231731687303715884105728\",\n",
      "                \"EndingHashKey\": \"255211775190703847597530955573826158591\"\n",
      "            },\n",
      "            \"SequenceNumberRange\": {\n",
      "                \"StartingSequenceNumber\": \"49628804485681800542895896379571408492728820593588174882\"\n",
      "            }\n",
      "        },\n",
      "        {\n",
      "            \"ShardId\": \"shardId-000000000003\",\n",
      "            \"HashKeyRange\": {\n",
      "                \"StartingHashKey\": \"255211775190703847597530955573826158592\",\n",
      "                \"EndingHashKey\": \"340282366920938463463374607431768211455\"\n",
      "            },\n",
      "            \"SequenceNumberRange\": {\n",
      "                \"StartingSequenceNumber\": \"49628804485704101288094427002712944211001468955094155314\"\n",
      "            }\n",
      "        }\n",
      "    ]\n",
      "}\n"
     ]
    }
   ],
   "source": [
    "%%bash\n",
    "\n",
    "aws kinesis list-shards \\\n",
    "--stream-name kinesis-twitter-stream                    "
   ]
  },
  {
   "cell_type": "markdown",
   "id": "8537e629",
   "metadata": {},
   "source": [
    "\n",
    "\n",
    "Get Shard iterator using action from https://docs.aws.amazon.com/cli/latest/reference/kinesis/get-shard-iterator.html\n",
    "\n",
    "**Note that once iterator returned, it expires after  5mins !**\n",
    "\n",
    "A shard iterator specifies the shard position from which to start reading data records sequentially. The position is specified using the sequence number of a data record in a shard. We pass this in as arg to command as well as shardid - both can be obtained from output of previous run cell above.\n",
    "\n",
    "The --shard-iterator-type can also be set to LATEST to start reading after the latest records. "
   ]
  },
  {
   "cell_type": "code",
   "execution_count": 56,
   "id": "96b13ac9",
   "metadata": {},
   "outputs": [
    {
     "name": "stdout",
     "output_type": "stream",
     "text": [
      "{\n",
      "    \"ShardIterator\": \"AAAAAAAAAAFjXi7SwE13ybBWJPMLPegv//1TdQa8Ee0k75WIDHiijKNoKtnuO63PgStj/M8tsMJe/0otC8bzP1h0Z97/nKkzdHYbwEMPzcYALfJ2n5qVz7FrnZ3ZO5Dk6bmF/FBKtlXdwa4+EaamHtf2RmG5fIkTvjUuk8eguv0fyOPddCjAD+a4mFOnskjlhaNINZhVAvrPH33kjxpZMO0VoL/Mkms847SDTWy0B4zZd5DP64ykneCLuQ3wK/APMw/8IGvDOIw=\"\n",
      "}\n"
     ]
    }
   ],
   "source": [
    "%%bash\n",
    "\n",
    " \n",
    "aws kinesis get-shard-iterator \\\n",
    "--stream-name kinesis-twitter-stream \\\n",
    "--shard-iterator-type AT_SEQUENCE_NUMBER  --starting-sequence-number 49628804485659499797697365756429872774456172232082194450 \\\n",
    "--shard-id shardId-000000000001\n",
    "\n",
    "\n",
    "# ------ Generating shard iterator using LATEST below. We can then stream records and \n",
    "# -- then use get-records in next cell to retrieve the latest records streamed\n",
    "\n",
    "# aws kinesis get-shard-iterator \\\n",
    "# --stream-name kinesis-twitter-stream \\\n",
    "# --shard-iterator-type LATEST \\\n",
    "# --shard-id shardId-000000000001"
   ]
  },
  {
   "cell_type": "markdown",
   "id": "7d84f453",
   "metadata": {},
   "source": [
    " We can get records from the iterator by using aws kinesis get-records action. The iterator value output from running command in cell above, can be passed as parameter --shard-iterator for get-records command https://docs.aws.amazon.com/cli/latest/reference/kinesis/get-records.html. This sequentially moves through the sequence numbers and output into json in datasets folder"
   ]
  },
  {
   "cell_type": "code",
   "execution_count": 57,
   "id": "d4eac392",
   "metadata": {},
   "outputs": [],
   "source": [
    "%%bash \n",
    "\n",
    "# if data exists in json get rid of it (as command below will append messing up json format)\n",
    "SHARD_RECORDS_PATH=\"../datasets/outputs/kinesis/sample_shard_records.json\"\n",
    ">$SHARD_RECORDS_PATH\n",
    "\n",
    "aws kinesis get-records \\\n",
    "--shard-iterator \"AAAAAAAAAAFjXi7SwE13ybBWJPMLPegv//1TdQa8Ee0k75WIDHiijKNoKtnuO63PgStj/M8tsMJe/0otC8bzP1h0Z97/nKkzdHYbwEMPzcYALfJ2n5qVz7FrnZ3ZO5Dk6bmF/FBKtlXdwa4+EaamHtf2RmG5fIkTvjUuk8eguv0fyOPddCjAD+a4mFOnskjlhaNINZhVAvrPH33kjxpZMO0VoL/Mkms847SDTWy0B4zZd5DP64ykneCLuQ3wK/APMw/8IGvDOIw=\" \\\n",
    ">> $SHARD_RECORDS_PATH"
   ]
  },
  {
   "cell_type": "markdown",
   "id": "8c9d3c86",
   "metadata": {},
   "source": [
    "Reading from the shard records json into python dict and then checking records"
   ]
  },
  {
   "cell_type": "code",
   "execution_count": 58,
   "id": "3ec4e0f2",
   "metadata": {},
   "outputs": [],
   "source": [
    "\n",
    "import json\n",
    "\n",
    "SHARD_RECORDS_PATH=\"../datasets/outputs/kinesis/sample_shard_records.json\"\n",
    "with open(SHARD_RECORDS_PATH) as f:\n",
    "    shard_data = json.load(f)\n",
    "\n"
   ]
  },
  {
   "cell_type": "code",
   "execution_count": 73,
   "id": "14568075",
   "metadata": {},
   "outputs": [
    {
     "name": "stdout",
     "output_type": "stream",
     "text": [
      "eyJjcmVhdGVkX2F0IjogIkZyaSBBcHIgMjIgMDA6NDg6MjQgKzAwMDAgMjAyMiIsICJoYW5kbGUiOiAiS1RheWl0aSIsICJ0ZXh0IjogIkhleSBUaGVyZSEgSGVyZSdzIGEgTmV3IFBvc3QgT246IFRoZSBUaHVuZGVyJ3MgT2tsYWhvbWEgU3Bpcml0IHwgIGh0dHBzOi8vdC5jby8wTEtiQ0VGMGVPLi4uLkNoZWNrIGl0IG91dC4gaHR0cHM6Ly90LmNvL1VGekhPVE40OXMgICNOQkEgI05ITCAgI05GTCBodHRwczovL3QuY28vZUJZUEdva1YySyIsICJmYXZvdXJpdGVfY291bnQiOiAwLCAicmV0d2VldF9jb3VudCI6IDAsICJyZXR3ZWV0ZWQiOiBmYWxzZSwgImZvbGxvd2Vyc19jb3VudCI6IDIsICJmcmllbmRzX2NvdW50IjogMjgsICJsb2NhdGlvbiI6IG51bGwsICJsYW5nIjogbnVsbH0=\n"
     ]
    }
   ],
   "source": [
    "random_record = shard_data['Records'][-5]['Data']\n",
    "print(random_record)"
   ]
  },
  {
   "cell_type": "code",
   "execution_count": 74,
   "id": "1a7c74ad",
   "metadata": {},
   "outputs": [
    {
     "data": {
      "text/plain": [
       "{'created_at': 'Fri Apr 22 00:48:24 +0000 2022',\n",
       " 'handle': 'KTayiti',\n",
       " 'text': \"Hey There! Here's a New Post On: The Thunder's Oklahoma Spirit |  https://t.co/0LKbCEF0eO....Check it out. https://t.co/UFzHOTN49s  #NBA #NHL  #NFL https://t.co/eBYPGokV2K\",\n",
       " 'favourite_count': 0,\n",
       " 'retweet_count': 0,\n",
       " 'retweeted': False,\n",
       " 'followers_count': 2,\n",
       " 'friends_count': 28,\n",
       " 'location': None,\n",
       " 'lang': None}"
      ]
     },
     "execution_count": 74,
     "metadata": {},
     "output_type": "execute_result"
    }
   ],
   "source": [
    "import base64\n",
    "json.loads(base64.b64decode(random_record).decode('utf-8'))"
   ]
  }
 ],
 "metadata": {
  "kernelspec": {
   "display_name": "aws_etl",
   "language": "python",
   "name": "aws-etl-fv9wwbi4-py3.9"
  },
  "language_info": {
   "codemirror_mode": {
    "name": "ipython",
    "version": 3
   },
   "file_extension": ".py",
   "mimetype": "text/x-python",
   "name": "python",
   "nbconvert_exporter": "python",
   "pygments_lexer": "ipython3",
   "version": "3.9.1"
  }
 },
 "nbformat": 4,
 "nbformat_minor": 5
}
